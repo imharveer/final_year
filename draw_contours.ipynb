{
 "cells": [
  {
   "cell_type": "code",
   "execution_count": 8,
   "metadata": {},
   "outputs": [
    {
     "name": "stdout",
     "output_type": "stream",
     "text": [
      "[array([[[ 14,  14]],\n",
      "\n",
      "       [[ 14, 210]],\n",
      "\n",
      "       [[210, 210]],\n",
      "\n",
      "       [[210,  14]]], dtype=int32), array([[[  0,   0]],\n",
      "\n",
      "       [[  0, 224]],\n",
      "\n",
      "       [[224, 224]],\n",
      "\n",
      "       [[224,   0]]], dtype=int32), array([[[ 11,   9]],\n",
      "\n",
      "       [[214,   9]],\n",
      "\n",
      "       [[215,  10]],\n",
      "\n",
      "       [[215, 214]],\n",
      "\n",
      "       [[214, 215]],\n",
      "\n",
      "       [[ 10, 215]],\n",
      "\n",
      "       [[  9, 214]],\n",
      "\n",
      "       [[  9,  11]]], dtype=int32)]\n"
     ]
    },
    {
     "data": {
      "image/png": "[encoded data removed]",
      "text/plain": [
       "<Figure size 432x288 with 1 Axes>"
      ]
     },
     "metadata": {
      "needs_background": "light"
     },
     "output_type": "display_data"
    }
   ],
   "source": [
    "import cv2\n",
    "import matplotlib.pyplot as plt\n",
    "import numpy as np\n",
    "img=cv2.imread('/home/harveer/Desktop/index.png')\n",
    "imgray = cv2.cvtColor(img, cv2.COLOR_BGR2GRAY)\n",
    "ret, thresh = cv2.threshold(imgray, 127, 255, 0)\n",
    "img1, contours, hierarchy = cv2.findContours(thresh, cv2.RETR_CCOMP , cv2.CHAIN_APPROX_SIMPLE)\n",
    "cv2.drawContours(img, contours, -1, (255,0,0), 3)\n",
    "print(contours)\n",
    "# area = cv2.contourArea(contours)\n",
    "# print(area)\n",
    "plt.imshow(img,cmap='gray')\n",
    "plt.show()"
   ]
  },
  {
   "cell_type": "code",
   "execution_count": 32,
   "metadata": {},
   "outputs": [
    {
     "name": "stdout",
     "output_type": "stream",
     "text": [
      "371.5\n"
     ]
    },
    {
     "data": {
      "image/png": "[encoded data removed]",
      "text/plain": [
       "<Figure size 432x288 with 1 Axes>"
      ]
     },
     "metadata": {
      "needs_background": "light"
     },
     "output_type": "display_data"
    }
   ],
   "source": [
    "import cv2\n",
    "import matplotlib.pyplot as plt\n",
    "import numpy as np\n",
    "# img=cv2.imread('/home/harveer/Desktop/Learner/final_year/Hand-written-text-recognizer-master/training_set/A/2.jpg')\n",
    "img=cv2.imread('/home/harveer/Desktop/Learner/final_year/Hand-written-text-recognizer-master/training_set/D/2.jpg')\n",
    "# img=cv2.imread('/home/harveer/Desktop/Learner/final_year/Hand-written-text-recognizer-master/test_set/A/92.jpg')\n",
    "imgray = cv2.cvtColor(img, cv2.COLOR_BGR2GRAY)\n",
    "ret, thresh = cv2.threshold(imgray, 127, 255, 0)\n",
    "img1, contours, hierarchy = cv2.findContours(thresh, cv2.RETR_EXTERNAL  , cv2.CHAIN_APPROX_SIMPLE)\n",
    "cv2.drawContours(img, contours, -1, (0,255,0), 1)\n",
    "# print(contours)\n",
    "cnt=contours[0]\n",
    "area = cv2.contourArea(cnt)\n",
    "print(area)\n",
    "plt.imshow(img,cmap='gray')\n",
    "plt.show()"
   ]
  }
 ],
 "metadata": {
  "kernelspec": {
   "display_name": "Python 3",
   "language": "python",
   "name": "python3"
  },
  "language_info": {
   "codemirror_mode": {
    "name": "ipython",
    "version": 3
   },
   "file_extension": ".py",
   "mimetype": "text/x-python",
   "name": "python",
   "nbconvert_exporter": "python",
   "pygments_lexer": "ipython3",
   "version": "3.5.2"
  }
 },
 "nbformat": 4,
 "nbformat_minor": 2
}
