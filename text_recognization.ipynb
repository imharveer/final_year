{
 "cells": [
  {
   "cell_type": "code",
   "execution_count": 2,
   "metadata": {},
   "outputs": [
    {
     "name": "stdout",
     "output_type": "stream",
     "text": [
      "[[[0.42, 0.45, 0.01, 0.79, 0.16, 0.28, 0.52, 0.03, 0.43], 0], [[0.2, 0.43, 0.11, 0.6, 0.3, 0.47, 0.44, 0.0, 0.5], 0], [[0.16, 0.29, 0.1, 0.29, 0.1, 0.26, 0.06, 0.0, 0.22], 0]]\n"
     ]
    }
   ],
   "source": [
    "import os\n",
    "import cv2\n",
    "import numpy as np\n",
    "import matplotlib.pyplot as plt\n",
    "training_data=[]\n",
    "DATADIR='/home/harveer/Desktop/Learner/final_year/Hand-written-text-recognizer-master/training_set'\n",
    "CATEGORIES=['A','B','C','D','E','F','G','H','I','J','K','L','M','N']\n",
    "def create_training_data():\n",
    "    for category in CATEGORIES:\n",
    "        path=os.path.join(DATADIR,category)\n",
    "        class_num=CATEGORIES.index(category)\n",
    "        for img in os.listdir(path):\n",
    "            try:\n",
    "                img_array=cv2.imread(os.path.join(path,img),cv2.IMREAD_GRAYSCALE)\n",
    "                ret,thresh=cv2.threshold(img_array,127,255,cv2.THRESH_BINARY)\n",
    "                training_data.append([thresh,class_num])\n",
    "            except Exception as e:\n",
    "                pass\n",
    "create_training_data()\n",
    "# Density calculation:\n",
    "density_all=[]\n",
    "for i in training_data:\n",
    "    rows,cols=i[0].shape\n",
    "    \n",
    "    density=[]\n",
    "    r=0\n",
    "    for j in range(3):\n",
    "        c=0\n",
    "        for k in range(3):\n",
    "            patch=i[0][r:r+10,c:c+10]\n",
    "            dark=0\n",
    "            for l in patch:\n",
    "                for m in l:\n",
    "                    if(m==255):\n",
    "                        dark+=1\n",
    "            density.append(dark/(rows//3*cols//3))\n",
    "            c+=10\n",
    "        r+=10\n",
    "    density_all.append([density,i[1]])\n",
    "print(density_all[0:3])\n"
   ]
  },
  {
   "cell_type": "code",
   "execution_count": 3,
   "metadata": {},
   "outputs": [],
   "source": [
    "import os\n",
    "import cv2\n",
    "import numpy as np\n",
    "import matplotlib.pyplot as plt\n",
    "DATADIR='/home/harveer/Desktop/Learner/final_year/Hand-written-text-recognizer-master/test_set'\n",
    "CATEGORIES=['A','B','C','D','E','F','G','H','I','J','K','L','M','N']\n",
    "density_A=[]\n",
    "density_B=[]\n",
    "density_C=[]\n",
    "density_D=[]\n",
    "density_E=[]\n",
    "density_F=[]\n",
    "density_G=[]\n",
    "density_H=[]\n",
    "density_I=[]\n",
    "density_J=[]\n",
    "density_K=[]\n",
    "density_L=[]\n",
    "density_M=[]\n",
    "density_N=[]\n",
    "def create_test_data():\n",
    "    for category in CATEGORIES:\n",
    "        path=os.path.join(DATADIR,category)\n",
    "        class_num=CATEGORIES.index(category)\n",
    "        for img in os.listdir(path):\n",
    "            try:\n",
    "                img_array=cv2.imread(os.path.join(path,img),cv2.IMREAD_GRAYSCALE)\n",
    "                ret,thresh=cv2.threshold(img_array,127,255,cv2.THRESH_BINARY)\n",
    "                if(category=='A'):\n",
    "                    density_A.append(thresh)\n",
    "                elif(category=='B'):\n",
    "                    density_B.append(thresh)\n",
    "                elif(category=='C'):\n",
    "                    density_C.append(thresh)\n",
    "                elif(category=='D'):\n",
    "                    density_D.append(thresh)\n",
    "                elif(category=='E'):\n",
    "                    density_E.append(thresh)\n",
    "                elif(category=='F'):\n",
    "                    density_F.append(thresh)\n",
    "                elif(category=='G'):\n",
    "                    density_G.append(thresh)\n",
    "                elif(category=='H'):\n",
    "                    density_H.append(thresh)\n",
    "                elif(category=='I'):\n",
    "                    density_I.append(thresh)\n",
    "                elif(category=='J'):\n",
    "                    density_J.append(thresh)\n",
    "                elif(category=='K'):\n",
    "                    density_K.append(thresh)\n",
    "                elif(category=='L'):\n",
    "                    density_L.append(thresh)\n",
    "                elif(category=='M'):\n",
    "                    density_M.append(thresh)\n",
    "                elif(category=='N'):\n",
    "                    density_N.append(thresh)\n",
    "\n",
    "            except Exception as e:\n",
    "                pass\n",
    "create_test_data()\n",
    "test_data=[density_A,density_B,density_C,density_D,density_E,density_F,density_G,density_H,density_I,density_J,\n",
    "           density_K,density_L,density_M,density_N]"
   ]
  },
  {
   "cell_type": "code",
   "execution_count": 9,
   "metadata": {},
   "outputs": [
    {
     "data": {
      "image/png": "[encoded data removed]",
      "text/plain": [
       "<Figure size 432x288 with 1 Axes>"
      ]
     },
     "metadata": {
      "needs_background": "light"
     },
     "output_type": "display_data"
    },
    {
     "name": "stdout",
     "output_type": "stream",
     "text": [
      "[0.04, 0.18, 0.23, 0.53, 0.1, 0.19, 0.32, 0.0, 0.13]\n",
      "M\n"
     ]
    }
   ],
   "source": [
    "import cv2\n",
    "from math import sqrt\n",
    "import matplotlib.pyplot as plt\n",
    "img=cv2.imread('/home/harveer/Desktop/Learner/final_year/Hand-written-text-recognizer-master/test_set/M/271.jpg',0)\n",
    "ret,thresh=cv2.threshold(img,127,255,cv2.THRESH_BINARY)\n",
    "plt.imshow(thresh,cmap=\"gray\")\n",
    "plt.show()\n",
    "rows,cols=thresh.shape\n",
    "density_1=[]\n",
    "r=0\n",
    "for j in range(3):\n",
    "    c=0\n",
    "    for k in range(3):\n",
    "        patch=thresh[r:r+10,c:c+10]\n",
    "        dark=0\n",
    "        for l in patch:\n",
    "            for m in l:\n",
    "                if(m==255):\n",
    "                    dark+=1\n",
    "        density_1.append(dark/(rows//3*cols//3))\n",
    "        c+=10\n",
    "    r+=10\n",
    "print(density_1)\n",
    "count=0\n",
    "dis=[]\n",
    "dis2=[]\n",
    "for i in density_all:\n",
    "    value=sqrt(sum([abs((a-b)**2) for a,b in zip(i[0],density_1)]))\n",
    "    dis2.append(value)\n",
    "    dis.append((value,i[1]))\n",
    "result=dis[dis2.index(min(dis2))][1]\n",
    "final_result={0:'A',1:'B',2:'C',3:'D',4:'E',5:'F',6:'G',7:'H',8:'I',9:'J',10:'K',11:'L',12:'M',13:'N'}\n",
    "print(final_result[result])\n",
    "    "
   ]
  },
  {
   "cell_type": "code",
   "execution_count": 7,
   "metadata": {},
   "outputs": [],
   "source": [
    "from math import sqrt\n",
    "final_output=[]\n",
    "for test_density in test_data:\n",
    "    test_result=[]\n",
    "    for thresh in test_density:\n",
    "        rows,cols=thresh.shape\n",
    "        density_1=[]\n",
    "        r=0\n",
    "        for j in range(3):\n",
    "            c=0\n",
    "            for k in range(3):\n",
    "                patch=thresh[r:r+10,c:c+10]\n",
    "                dark=0\n",
    "                for l in patch:\n",
    "                    for m in l:\n",
    "                        if(m==255):\n",
    "                            dark+=1\n",
    "                density_1.append(dark/(rows//3*cols//3))\n",
    "                c+=10\n",
    "            r+=10\n",
    "        count=0\n",
    "        dis=[]\n",
    "        dis2=[]\n",
    "        for i in density_all:\n",
    "            value=sqrt(sum([(a-b)**2 for a,b in zip(i[0],density_1)]))\n",
    "            dis2.append(value)\n",
    "            dis.append((value,i[1]))\n",
    "        result=dis[dis2.index(min(dis2))][1]\n",
    "        final_result={0:'A',1:'B',2:'C',3:'D',4:'E',5:'F',6:'G',7:'H',8:'I',9:'J',10:'K',11:'L',12:'M',13:'N'}\n",
    "        test_result.append(final_result[result])\n",
    "    final_output.append(test_result)   "
   ]
  },
  {
   "cell_type": "code",
   "execution_count": 28,
   "metadata": {},
   "outputs": [
    {
     "name": "stdout",
     "output_type": "stream",
     "text": [
      "OrderedDict([('A', '80.0%'), ('B', '86.0%'), ('C', '100.0%'), ('D', '96.0%'), ('E', '96.0%'), ('F', '98.0%'), ('G', '96.0%'), ('H', '92.0%'), ('I', '100.0%'), ('J', '100.0%'), ('K', '100.0%'), ('L', '98.0%'), ('M', '100.0%'), ('N', '96.0%')])\n"
     ]
    }
   ],
   "source": [
    "from collections import OrderedDict\n",
    "per_list=[]\n",
    "check=['A','B','C','D','E','F','G','H','I','J','K','L','M','N']\n",
    "percentage=OrderedDict()\n",
    "k=0\n",
    "for i in final_output:\n",
    "    per=i.count(check[k])\n",
    "    per_list.append((per/len(i))*100)\n",
    "    percentage[check[k]]='{}%'.format((per/len(i))*100)\n",
    "    k+=1\n",
    "print(percentage)\n",
    "        "
   ]
  },
  {
   "cell_type": "code",
   "execution_count": 30,
   "metadata": {},
   "outputs": [
    {
     "data": {
      "image/png": "[encoded data removed]",
      "text/plain": [
       "<Figure size 432x288 with 1 Axes>"
      ]
     },
     "metadata": {
      "needs_background": "light"
     },
     "output_type": "display_data"
    }
   ],
   "source": [
    "import numpy as np\n",
    "import matplotlib.pyplot as plt\n",
    "check=('A','B','C','D','E','F','G','H','I','J','K','L','M','N')\n",
    "y_pos = np.arange(len(check))\n",
    "plt.bar(y_pos, per_list, align='center', alpha=0.5)\n",
    "plt.xticks(y_pos, check)\n",
    "plt.ylabel('Accuracy in %')\n",
    "plt.title('Alphabets')\n",
    "plt.show()"
   ]
  }
 ],
 "metadata": {
  "kernelspec": {
   "display_name": "Python 3",
   "language": "python",
   "name": "python3"
  },
  "language_info": {
   "codemirror_mode": {
    "name": "ipython",
    "version": 3
   },
   "file_extension": ".py",
   "mimetype": "text/x-python",
   "name": "python",
   "nbconvert_exporter": "python",
   "pygments_lexer": "ipython3",
   "version": "3.5.2"
  }
 },
 "nbformat": 4,
 "nbformat_minor": 2
}
