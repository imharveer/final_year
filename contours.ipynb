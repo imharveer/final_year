{
 "cells": [
  {
   "cell_type": "code",
   "execution_count": 9,
   "metadata": {},
   "outputs": [
    {
     "name": "stdout",
     "output_type": "stream",
     "text": [
      "37\n"
     ]
    },
    {
     "data": {
      "image/png": "[encoded data removed]",
      "text/plain": [
       "<Figure size 432x288 with 1 Axes>"
      ]
     },
     "metadata": {
      "needs_background": "light"
     },
     "output_type": "display_data"
    }
   ],
   "source": [
    "import cv2\n",
    "import matplotlib.pyplot as plt\n",
    "img =cv2.imread('/Users/sukhveersingh/Desktop/final_year/final_year/Hand-written-text-recognizer-master/training_set/A/2.jpg',0)\n",
    "ret,thresh=cv2.threshold(img,127,255,cv2.THRESH_BINARY)\n",
    "img1,contours,hierarchy=cv2.findContours(thresh,cv2.RETR_EXTERNAL,cv2.CHAIN_APPROX_SIMPLE)\n",
    "\n",
    "# cv2.drawContours(img1, contours,-1, (120,255,150), 1)\n",
    "count=0\n",
    "for i in contours:\n",
    "    for j in i:\n",
    "        count+=1\n",
    "\n",
    "print(count)\n",
    "plt.imshow(img1,cmap='gray')\n",
    "plt.show()"
   ]
  },
  {
   "cell_type": "code",
   "execution_count": 7,
   "metadata": {},
   "outputs": [
    {
     "name": "stdout",
     "output_type": "stream",
     "text": [
      "86\n"
     ]
    },
    {
     "data": {
      "image/png": "[encoded data removed]",
      "text/plain": [
       "<Figure size 432x288 with 1 Axes>"
      ]
     },
     "metadata": {
      "needs_background": "light"
     },
     "output_type": "display_data"
    }
   ],
   "source": [
    "import cv2\n",
    "import matplotlib.pyplot as plt\n",
    "img =cv2.imread('/Users/sukhveersingh/Desktop/final_year/final_year/Hand-written-text-recognizer-master/training_set/B/1.jpg',0)\n",
    "ret,thresh=cv2.threshold(img,127,255,cv2.THRESH_BINARY)\n",
    "img1,contours,hierarchy=cv2.findContours(thresh,cv2.RETR_EXTERNAL,cv2.CHAIN_APPROX_SIMPLE)\n",
    "count=0\n",
    "for i in contours:\n",
    "    for j in i:\n",
    "        count+=1\n",
    "\n",
    "print(count)\n",
    "# cv2.drawContours(img1, contours,-1, (120,255,150), 1)\n",
    "plt.imshow(img1,cmap='gray')\n",
    "plt.show()"
   ]
  },
  {
   "cell_type": "code",
   "execution_count": 10,
   "metadata": {},
   "outputs": [
    {
     "name": "stdout",
     "output_type": "stream",
     "text": [
      "60\n"
     ]
    },
    {
     "data": {
      "image/png": "[encoded data removed]",
      "text/plain": [
       "<Figure size 432x288 with 1 Axes>"
      ]
     },
     "metadata": {
      "needs_background": "light"
     },
     "output_type": "display_data"
    }
   ],
   "source": [
    "import cv2\n",
    "import matplotlib.pyplot as plt\n",
    "img =cv2.imread('/Users/sukhveersingh/Desktop/final_year/final_year/Hand-written-text-recognizer-master/training_set/C/287.jpg',0)\n",
    "ret,thresh=cv2.threshold(img,127,255,cv2.THRESH_BINARY)\n",
    "img1,contours,hierarchy=cv2.findContours(thresh,cv2.RETR_EXTERNAL,cv2.CHAIN_APPROX_SIMPLE)\n",
    "count=0\n",
    "for i in contours:\n",
    "    for j in i:\n",
    "        count+=1\n",
    "\n",
    "print(count)\n",
    "# cv2.drawContours(img1, contours,-1, (120,255,150), 1)\n",
    "plt.imshow(img1,cmap='gray')\n",
    "plt.show()"
   ]
  },
  {
   "cell_type": "code",
   "execution_count": 29,
   "metadata": {},
   "outputs": [
    {
     "name": "stdout",
     "output_type": "stream",
     "text": [
      "550\n",
      "19 119\n",
      "34 131\n",
      "40 79\n",
      "34 112\n",
      "40 132\n",
      "24 99\n",
      "23 181\n",
      "16 103\n",
      "12 96\n",
      "29 80\n",
      "30 141\n",
      "7 91\n",
      "26 213\n",
      "28 109\n",
      "69.0\n",
      "82.5\n",
      "59.5\n",
      "73.0\n",
      "86.0\n",
      "61.5\n",
      "102.0\n",
      "59.5\n",
      "54.0\n",
      "54.5\n",
      "85.5\n",
      "49.0\n",
      "119.5\n",
      "68.5\n"
     ]
    }
   ],
   "source": [
    "import os\n",
    "import cv2\n",
    "import numpy as np\n",
    "import matplotlib.pyplot as plt\n",
    "training_data=[]\n",
    "DATADIR='/Users/sukhveersingh/Desktop/final_year/final_year/Hand-written-text-recognizer-master/training_set'\n",
    "CATEGORIES=['A','B','C','D','E','F','G','H','I','J','K','L','M','N']\n",
    "contours_A=[]\n",
    "contours_B=[]\n",
    "contours_C=[]\n",
    "contours_D=[]\n",
    "contours_E=[]\n",
    "contours_F=[]\n",
    "contours_G=[]\n",
    "contours_H=[]\n",
    "contours_I=[]\n",
    "contours_J=[]\n",
    "contours_K=[]\n",
    "contours_L=[]\n",
    "contours_M=[]\n",
    "contours_N=[]\n",
    "def create_training_data():\n",
    "    for category in CATEGORIES:\n",
    "        path=os.path.join(DATADIR,category)\n",
    "        class_num=CATEGORIES.index(category)\n",
    "        for img in os.listdir(path):\n",
    "            try:\n",
    "                img_array=cv2.imread(os.path.join(path,img),cv2.IMREAD_GRAYSCALE)\n",
    "                ret,thresh=cv2.threshold(img_array,127,255,cv2.THRESH_BINARY)\n",
    "                img1,contours,hierarchy=cv2.findContours(thresh,cv2.RETR_EXTERNAL,cv2.CHAIN_APPROX_SIMPLE)\n",
    "                count=0\n",
    "                for i in contours:\n",
    "                    for j in i:\n",
    "                        count+=1\n",
    "                if(category=='A'):\n",
    "                    contours_A.append(count)\n",
    "                elif(category=='B'):\n",
    "                    contours_B.append(count)\n",
    "                elif(category=='C'):\n",
    "                    contours_C.append(count)\n",
    "                elif(category=='D'):\n",
    "                    contours_D.append(count)\n",
    "                elif(category=='E'):\n",
    "                    contours_E.append(count)\n",
    "                elif(category=='F'):\n",
    "                    contours_F.append(count)\n",
    "                elif(category=='G'):\n",
    "                    contours_G.append(count)\n",
    "                elif(category=='H'):\n",
    "                    contours_H.append(count)\n",
    "                elif(category=='I'):\n",
    "                    contours_I.append(count)\n",
    "                elif(category=='J'):\n",
    "                    contours_J.append(count)\n",
    "                elif(category=='K'):\n",
    "                    contours_K.append(count)\n",
    "                elif(category=='L'):\n",
    "                    contours_L.append(count)\n",
    "                elif(category=='M'):\n",
    "                    contours_M.append(count)\n",
    "                elif(category=='N'):\n",
    "                    contours_N.append(count)\n",
    "\n",
    "            except Exception as e:\n",
    "                pass\n",
    "create_training_data()\n",
    "print(len(contours_A))\n",
    "print(min(contours_A),max(contours_A))\n",
    "print(min(contours_B),max(contours_B))\n",
    "print(min(contours_C),max(contours_C))\n",
    "print(min(contours_D),max(contours_D))\n",
    "print(min(contours_E),max(contours_E))\n",
    "print(min(contours_F),max(contours_F))\n",
    "print(min(contours_G),max(contours_G))\n",
    "print(min(contours_H),max(contours_H))\n",
    "print(min(contours_I),max(contours_I))\n",
    "print(min(contours_J),max(contours_J))\n",
    "print(min(contours_K),max(contours_K))\n",
    "print(min(contours_L),max(contours_L))\n",
    "print(min(contours_M),max(contours_M))\n",
    "print(min(contours_N),max(contours_N))\n",
    "print((min(contours_A)+max(contours_A))/2)\n",
    "print((min(contours_B)+max(contours_B))/2)\n",
    "print((min(contours_C)+max(contours_C))/2)\n",
    "print((min(contours_D)+max(contours_D))/2)\n",
    "print((min(contours_E)+max(contours_E))/2)\n",
    "print((min(contours_F)+max(contours_F))/2)\n",
    "print((min(contours_G)+max(contours_G))/2)\n",
    "print((min(contours_H)+max(contours_H))/2)\n",
    "print((min(contours_I)+max(contours_I))/2)\n",
    "print((min(contours_J)+max(contours_J))/2)\n",
    "print((min(contours_K)+max(contours_K))/2)\n",
    "print((min(contours_L)+max(contours_L))/2)\n",
    "print((min(contours_M)+max(contours_M))/2)\n",
    "print((min(contours_N)+max(contours_N))/2)"
   ]
  },
  {
   "cell_type": "code",
   "execution_count": 28,
   "metadata": {},
   "outputs": [
    {
     "name": "stdout",
     "output_type": "stream",
     "text": [
      "35 95\n",
      "44 104\n",
      "42 79\n",
      "36 102\n",
      "39 126\n",
      "26 76\n",
      "23 116\n",
      "16 103\n",
      "16 96\n",
      "39 74\n",
      "33 141\n",
      "7 67\n",
      "52 213\n",
      "28 108\n",
      "65.0\n",
      "74.0\n",
      "60.5\n",
      "69.0\n",
      "82.5\n",
      "51.0\n",
      "69.5\n",
      "59.5\n",
      "56.0\n",
      "56.5\n",
      "87.0\n",
      "37.0\n",
      "132.5\n",
      "68.0\n"
     ]
    }
   ],
   "source": [
    "import os\n",
    "import cv2\n",
    "import numpy as np\n",
    "import matplotlib.pyplot as plt\n",
    "training_data=[]\n",
    "DATADIR='/Users/sukhveersingh/Desktop/final_year/final_year/Hand-written-text-recognizer-master/test_set'\n",
    "CATEGORIES=['A','B','C','D','E','F','G','H','I','J','K','L','M','N']\n",
    "contours_A=[]\n",
    "contours_B=[]\n",
    "contours_C=[]\n",
    "contours_D=[]\n",
    "contours_E=[]\n",
    "contours_F=[]\n",
    "contours_G=[]\n",
    "contours_H=[]\n",
    "contours_I=[]\n",
    "contours_J=[]\n",
    "contours_K=[]\n",
    "contours_L=[]\n",
    "contours_M=[]\n",
    "contours_N=[]\n",
    "def create_training_data():\n",
    "    for category in CATEGORIES:\n",
    "        path=os.path.join(DATADIR,category)\n",
    "        class_num=CATEGORIES.index(category)\n",
    "        for img in os.listdir(path):\n",
    "            try:\n",
    "                img_array=cv2.imread(os.path.join(path,img),cv2.IMREAD_GRAYSCALE)\n",
    "                ret,thresh=cv2.threshold(img_array,127,255,cv2.THRESH_BINARY)\n",
    "                img1,contours,hierarchy=cv2.findContours(thresh,cv2.RETR_EXTERNAL,cv2.CHAIN_APPROX_SIMPLE)\n",
    "                count=0\n",
    "                for i in contours:\n",
    "                    for j in i:\n",
    "                        count+=1\n",
    "                if(category=='A'):\n",
    "                    contours_A.append(count)\n",
    "                elif(category=='B'):\n",
    "                    contours_B.append(count)\n",
    "                elif(category=='C'):\n",
    "                    contours_C.append(count)\n",
    "                elif(category=='D'):\n",
    "                    contours_D.append(count)\n",
    "                elif(category=='E'):\n",
    "                    contours_E.append(count)\n",
    "                elif(category=='F'):\n",
    "                    contours_F.append(count)\n",
    "                elif(category=='G'):\n",
    "                    contours_G.append(count)\n",
    "                elif(category=='H'):\n",
    "                    contours_H.append(count)\n",
    "                elif(category=='I'):\n",
    "                    contours_I.append(count)\n",
    "                elif(category=='J'):\n",
    "                    contours_J.append(count)\n",
    "                elif(category=='K'):\n",
    "                    contours_K.append(count)\n",
    "                elif(category=='L'):\n",
    "                    contours_L.append(count)\n",
    "                elif(category=='M'):\n",
    "                    contours_M.append(count)\n",
    "                elif(category=='N'):\n",
    "                    contours_N.append(count)\n",
    "\n",
    "            except Exception as e:\n",
    "                pass\n",
    "create_training_data()\n",
    "print(min(contours_A),max(contours_A))\n",
    "print(min(contours_B),max(contours_B))\n",
    "print(min(contours_C),max(contours_C))\n",
    "print(min(contours_D),max(contours_D))\n",
    "print(min(contours_E),max(contours_E))\n",
    "print(min(contours_F),max(contours_F))\n",
    "print(min(contours_G),max(contours_G))\n",
    "print(min(contours_H),max(contours_H))\n",
    "print(min(contours_I),max(contours_I))\n",
    "print(min(contours_J),max(contours_J))\n",
    "print(min(contours_K),max(contours_K))\n",
    "print(min(contours_L),max(contours_L))\n",
    "print(min(contours_M),max(contours_M))\n",
    "print(min(contours_N),max(contours_N))\n",
    "print((min(contours_A)+max(contours_A))/2)\n",
    "print((min(contours_B)+max(contours_B))/2)\n",
    "print((min(contours_C)+max(contours_C))/2)\n",
    "print((min(contours_D)+max(contours_D))/2)\n",
    "print((min(contours_E)+max(contours_E))/2)\n",
    "print((min(contours_F)+max(contours_F))/2)\n",
    "print((min(contours_G)+max(contours_G))/2)\n",
    "print((min(contours_H)+max(contours_H))/2)\n",
    "print((min(contours_I)+max(contours_I))/2)\n",
    "print((min(contours_J)+max(contours_J))/2)\n",
    "print((min(contours_K)+max(contours_K))/2)\n",
    "print((min(contours_L)+max(contours_L))/2)\n",
    "print((min(contours_M)+max(contours_M))/2)\n",
    "print((min(contours_N)+max(contours_N))/2)"
   ]
  }
 ],
 "metadata": {
  "kernelspec": {
   "display_name": "Python 3",
   "language": "python",
   "name": "python3"
  },
  "language_info": {
   "codemirror_mode": {
    "name": "ipython",
    "version": 3
   },
   "file_extension": ".py",
   "mimetype": "text/x-python",
   "name": "python",
   "nbconvert_exporter": "python",
   "pygments_lexer": "ipython3",
   "version": "3.6.4"
  }
 },
 "nbformat": 4,
 "nbformat_minor": 2
}
