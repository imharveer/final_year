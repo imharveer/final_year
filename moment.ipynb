{
 "cells": [
  {
   "cell_type": "code",
   "execution_count": 4,
   "metadata": {},
   "outputs": [
    {
     "name": "stdout",
     "output_type": "stream",
     "text": [
      "2\n",
      "{'nu30': 0.08316036625392567, 'm20': 29081.583333333332, 'nu12': -0.014369360813173205, 'mu20': 4594.9632725430565, 'nu11': 0.04624050068317753, 'nu21': 0.06330632666879493, 'mu21': 21971.609420388137, 'm30': 495798.0, 'm00': 164.5, 'nu20': 0.16980490840044185, 'nu03': 0.004817663131918212, 'm10': 2007.0, 'm12': 396280.3333333333, 'nu02': 0.17798704537516508, 'm03': 499459.65, 'mu12': -4987.147415130261, 'mu02': 4816.373944613311, 'mu11': 1251.279508611955, 'm02': 30334.416666666664, 'm11': 26248.291666666664, 'm21': 414712.9666666667, 'mu30': 28862.31412773364, 'mu03': 1672.0574107435532, 'm01': 2048.833333333333}\n"
     ]
    },
    {
     "data": {
      "image/png": "[encoded data removed]",
      "text/plain": [
       "<Figure size 432x288 with 1 Axes>"
      ]
     },
     "metadata": {
      "needs_background": "light"
     },
     "output_type": "display_data"
    }
   ],
   "source": [
    "import cv2\n",
    "import matplotlib.pyplot as plt\n",
    "import numpy as np\n",
    "img=cv2.imread('/home/harveer/Desktop/Learner/final_year/Hand-written-text-recognizer-master/training_set/A/2.jpg')\n",
    "imgray = cv2.cvtColor(img, cv2.COLOR_BGR2GRAY)\n",
    "ret, thresh = cv2.threshold(imgray, 127, 255, 0)\n",
    "img1, contours, hierarchy = cv2.findContours(thresh, cv2.RETR_TREE  , cv2.CHAIN_APPROX_SIMPLE)\n",
    "cv2.drawContours(img, contours, -1, (0,255,0), 1)\n",
    "print(len(contours))\n",
    "M = cv2.moments(contours[0])\n",
    "print( M )\n",
    "plt.imshow(img,cmap='gray')\n",
    "plt.show()"
   ]
  },
  {
   "cell_type": "code",
   "execution_count": 14,
   "metadata": {},
   "outputs": [
    {
     "name": "stdout",
     "output_type": "stream",
     "text": [
      "1\n",
      "{'nu30': 0.0775410163974617, 'm20': 5670.083333333333, 'nu12': -0.1660333537655771, 'mu20': 1751.5648148148152, 'nu11': -0.08682804367472774, 'nu21': 0.10722996471462849, 'mu21': 4966.317842445624, 'm30': 70570.3, 'm00': 73.5, 'nu20': 0.3242287592789699, 'nu03': 0.08585887198785302, 'm10': 536.6666666666666, 'm12': 94820.51666666666, 'nu02': 0.5369687058599748, 'm03': 288624.7, 'mu12': -7689.775982315343, 'mu02': 2900.8391912320494, 'mu11': -469.06679894179797, 'm02': 15737.416666666666, 'm11': 6623.208333333333, 'm21': 73048.98333333334, 'mu30': 3591.284714873618, 'mu03': 3976.523250943108, 'm01': 971.3333333333333}\n"
     ]
    },
    {
     "data": {
      "image/png": "[encoded data removed]",
      "text/plain": [
       "<Figure size 432x288 with 1 Axes>"
      ]
     },
     "metadata": {
      "needs_background": "light"
     },
     "output_type": "display_data"
    },
    {
     "name": "stdout",
     "output_type": "stream",
     "text": [
      "[0.0, 0.0, 0.0, 0.0, 0.0, 0.0, 0.0, 0.0, 0.0, 0.0, 0.0, 0.0, 0.0, 0.0, 0.0, 0.0, 0.0, 0.0, 0.0, 0.0, 0.0, 0.0, 0.0, 0.0]\n"
     ]
    }
   ],
   "source": [
    "import cv2\n",
    "import matplotlib.pyplot as plt\n",
    "import numpy as np\n",
    "img=cv2.imread('/home/harveer/Desktop/Learner/final_year/Hand-written-text-recognizer-master/training_set/A/9.jpg')\n",
    "imgray = cv2.cvtColor(img, cv2.COLOR_BGR2GRAY)\n",
    "ret, thresh = cv2.threshold(imgray, 127, 255, 0)\n",
    "img1, contours, hierarchy = cv2.findContours(thresh, cv2.RETR_TREE  , cv2.CHAIN_APPROX_SIMPLE)\n",
    "cv2.drawContours(img, contours, -1, (0,255,0), 1)\n",
    "print(len(contours))\n",
    "M1 = cv2.moments(contours[0])\n",
    "print( M1 )\n",
    "plt.imshow(img,cmap='gray')\n",
    "plt.show()\n",
    "arr=[a-b for a,b in zip(M.values(),M1.values())]\n",
    "\n",
    "print(arr)  "
   ]
  }
 ],
 "metadata": {
  "kernelspec": {
   "display_name": "Python 3",
   "language": "python",
   "name": "python3"
  },
  "language_info": {
   "codemirror_mode": {
    "name": "ipython",
    "version": 3
   },
   "file_extension": ".py",
   "mimetype": "text/x-python",
   "name": "python",
   "nbconvert_exporter": "python",
   "pygments_lexer": "ipython3",
   "version": "3.5.2"
  }
 },
 "nbformat": 4,
 "nbformat_minor": 2
}
